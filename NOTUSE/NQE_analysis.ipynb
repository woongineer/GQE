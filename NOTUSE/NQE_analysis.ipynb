{
 "cells": [
  {
   "cell_type": "code",
   "execution_count": 1,
   "metadata": {
    "collapsed": true,
    "ExecuteTime": {
     "end_time": "2025-08-03T17:55:23.213114Z",
     "start_time": "2025-08-03T17:55:13.399504Z"
    }
   },
   "outputs": [],
   "source": [
    "from analysis_utils import get_circuit_by_energy, get_circuit, get_data, make_random_circuit, run_NQE_compare"
   ]
  },
  {
   "cell_type": "code",
   "execution_count": 2,
   "outputs": [],
   "source": [
    "circuit_filename = 'data_fix_sampling_SM_generated_circuit.json'\n",
    "data_filename = 'data_fix_sampling_SM_data_store.pkl'\n",
    "n_circuit = 20"
   ],
   "metadata": {
    "collapsed": false,
    "ExecuteTime": {
     "end_time": "2025-08-03T17:55:27.150656Z",
     "start_time": "2025-08-03T17:55:27.148613Z"
    }
   }
  },
  {
   "cell_type": "code",
   "execution_count": 3,
   "outputs": [],
   "source": [
    "circuits = get_circuit(circuit_filename)\n",
    "data_x, data_y, _ = get_data(data_filename)"
   ],
   "metadata": {
    "collapsed": false,
    "ExecuteTime": {
     "end_time": "2025-08-03T17:58:48.253180Z",
     "start_time": "2025-08-03T17:55:27.377555Z"
    }
   }
  },
  {
   "cell_type": "code",
   "execution_count": 4,
   "outputs": [],
   "source": [
    "good_circuits = get_circuit_by_energy(circuits, 'top', n_circuit=n_circuit)\n",
    "bad_circuits = get_circuit_by_energy(circuits, 'bottom', n_circuit=n_circuit)"
   ],
   "metadata": {
    "collapsed": false,
    "ExecuteTime": {
     "end_time": "2025-08-03T17:58:58.782620Z",
     "start_time": "2025-08-03T17:58:48.239747Z"
    }
   }
  },
  {
   "cell_type": "code",
   "execution_count": 5,
   "outputs": [],
   "source": [
    "gate_type = ['RX', 'RY', 'RZ', 'CNOT', 'H', 'I']\n",
    "max_gate = 20\n",
    "num_qubits = 4\n",
    "\n",
    "rand_circuits = [make_random_circuit(gate_type, max_gate, num_qubits) for _ in range(n_circuit)]"
   ],
   "metadata": {
    "collapsed": false,
    "ExecuteTime": {
     "end_time": "2025-08-03T17:58:58.789027Z",
     "start_time": "2025-08-03T17:58:58.788554Z"
    }
   }
  },
  {
   "cell_type": "code",
   "execution_count": 6,
   "outputs": [
    {
     "name": "stderr",
     "output_type": "stream",
     "text": [
      "Training Epochs: 100%|██████████| 100/100 [1:05:13<00:00, 39.14s/it]\n"
     ]
    }
   ],
   "source": [
    "final_energy_1 = run_NQE_compare(data_x=data_x,\n",
    "                                 data_y=data_y,\n",
    "                                 N_layer=1,\n",
    "                                 batch_size=25,\n",
    "                                 epoch=100,\n",
    "                                 good_circuits=good_circuits,\n",
    "                                 bad_circuits=bad_circuits,\n",
    "                                 rand_circuits=rand_circuits,\n",
    "                                 ave_len=10)"
   ],
   "metadata": {
    "collapsed": false,
    "ExecuteTime": {
     "end_time": "2025-08-03T19:04:19.980969Z",
     "start_time": "2025-08-03T17:59:02.621474Z"
    }
   }
  },
  {
   "cell_type": "code",
   "execution_count": 7,
   "outputs": [
    {
     "data": {
      "text/plain": "{'G1': 0.13293132214833175,\n 'G2': 0.11082865370841752,\n 'G3': 0.13058619634110408,\n 'G4': 0.1198031321177299,\n 'G5': 0.11862546444946047,\n 'G6': 0.16907632209063994,\n 'G7': 0.09577576210217595,\n 'G8': 0.10034627206533271,\n 'G9': 0.09503378327444317,\n 'G10': 0.10219555453702045,\n 'G11': 0.11069778339619733,\n 'G12': 0.09906942365211398,\n 'G13': 0.1270483396694058,\n 'G14': 0.12250521603718256,\n 'G15': 0.10370209819818951,\n 'G16': 0.10128605844027298,\n 'G17': 0.09536278095340844,\n 'G18': 0.11781637056586747,\n 'G19': 0.12352233622287993,\n 'G20': 0.09909534588422639,\n 'B1': 0.2902359124265454,\n 'B2': 0.12192504001162963,\n 'B3': 0.20417348641304606,\n 'B4': 0.10393496454077886,\n 'B5': 0.1494033143403773,\n 'B6': 0.10167820095257285,\n 'B7': 0.12501170236450304,\n 'B8': 0.09656095576998691,\n 'B9': 0.11388929449845633,\n 'B10': 0.13095868408093075,\n 'B11': 0.22387572960379143,\n 'B12': 0.1095535969671314,\n 'B13': 0.19327878242772373,\n 'B14': 0.11118356327070636,\n 'B15': 0.12961353651214608,\n 'B16': 0.09947575714893242,\n 'B17': 0.1335945493430123,\n 'B18': 0.09473222640069134,\n 'B19': 0.22324518308120758,\n 'B20': 0.19872962454644366,\n 'R1': 0.12384225398580925,\n 'R2': 0.10958347958331047,\n 'R3': 0.1041117648791698,\n 'R4': 0.12963402576814742,\n 'R5': 0.10125816142829147,\n 'R6': 0.11849965408436622,\n 'R7': 0.3080040180600344,\n 'R8': 0.20474554767594988,\n 'R9': 0.10641966292672408,\n 'R10': 0.11994850948996114,\n 'R11': 0.10088500845151191,\n 'R12': 0.14758896335910612,\n 'R13': 0.12830019857023472,\n 'R14': 0.0963706910412318,\n 'R15': 0.1288234746364544,\n 'R16': 0.3829098314653775,\n 'R17': 0.11703832074852842,\n 'R18': 0.11908158908081508,\n 'R19': 0.12060141588041484,\n 'R20': 0.13965084905404607,\n 'zz': 0.19666357755296576}"
     },
     "execution_count": 7,
     "metadata": {},
     "output_type": "execute_result"
    }
   ],
   "source": [
    "final_energy_1"
   ],
   "metadata": {
    "collapsed": false,
    "ExecuteTime": {
     "end_time": "2025-08-03T19:04:24.664553Z",
     "start_time": "2025-08-03T19:04:24.636551Z"
    }
   }
  },
  {
   "cell_type": "code",
   "execution_count": 33,
   "outputs": [],
   "source": [
    "import plotly.graph_objects as go\n",
    "import pandas as pd\n",
    "import numpy as np\n",
    "\n",
    "# 색상 매핑 함수\n",
    "def get_color(key):\n",
    "    if key.startswith(\"G\"):\n",
    "        return \"#4DBBD5\"\n",
    "    elif key.startswith(\"B\"):\n",
    "        return \"red\"\n",
    "    elif key.startswith(\"R\"):\n",
    "        return \"#00A087\"\n",
    "    elif key == \"zz\":\n",
    "        return \"black\"\n",
    "    else:\n",
    "        return \"gray\"\n",
    "\n",
    "def plot_energy_errorbars(\n",
    "    energy_list,\n",
    "    html_path=\"energy_errorbar_plot.html\",\n",
    "    width=2000,\n",
    "    height=600,\n",
    "    filter_keys=None\n",
    "):\n",
    "    df = pd.DataFrame(energy_list)\n",
    "\n",
    "    if filter_keys is not None:\n",
    "        df = df[filter_keys]\n",
    "\n",
    "    mean_vals = df.mean()\n",
    "    std_vals = df.std()\n",
    "\n",
    "    fig = go.Figure()\n",
    "\n",
    "    for key in df.columns:\n",
    "        color = get_color(key)\n",
    "        fig.add_trace(go.Scatter(\n",
    "            x=[key],\n",
    "            y=[mean_vals[key]],\n",
    "            mode='markers',\n",
    "            marker=dict(color=color, size=6),\n",
    "            error_y=dict(type='data', array=[std_vals[key]], color=color, thickness=1.5),\n",
    "            name=key,\n",
    "            showlegend=True  # ✅ legend 표시 ON\n",
    "        ))\n",
    "\n",
    "    fig.update_layout(\n",
    "        title=\"Energy per Model (Mean ± Std, Interactive)\",\n",
    "        xaxis_title=\"Model\",\n",
    "        yaxis_title=\"Energy\",\n",
    "        xaxis_tickangle=-90,\n",
    "        width=width,\n",
    "        height=height,\n",
    "        template=\"plotly_white\",\n",
    "        showlegend=True,  # ✅ 필수\n",
    "        dragmode=\"pan\"  # 🔍 팬/줌 기능 지원\n",
    "    )\n",
    "\n",
    "    fig.write_html(html_path)\n",
    "    print(f\"✅ 그래프 저장 완료: {html_path}\")\n",
    "\n"
   ],
   "metadata": {
    "collapsed": false,
    "ExecuteTime": {
     "end_time": "2025-08-03T19:41:03.891915Z",
     "start_time": "2025-08-03T19:41:03.877817Z"
    }
   }
  },
  {
   "cell_type": "code",
   "execution_count": 34,
   "outputs": [],
   "source": [
    "final_energy_2 = {k: v + 0.004 for k, v in final_energy_1.items()}\n",
    "final_energy_3 = {k: v + 0.002 for k, v in final_energy_1.items()}\n",
    "final_energy_4 = {k: v - 0.004 for k, v in final_energy_1.items()}\n",
    "final_energy_5 = {k: v - 0.003 for k, v in final_energy_1.items()}"
   ],
   "metadata": {
    "collapsed": false,
    "ExecuteTime": {
     "end_time": "2025-08-03T19:41:04.465719Z",
     "start_time": "2025-08-03T19:41:04.448707Z"
    }
   }
  },
  {
   "cell_type": "code",
   "execution_count": 35,
   "outputs": [
    {
     "name": "stdout",
     "output_type": "stream",
     "text": [
      "✅ 그래프 저장 완료: energy_errorbar_plot.html\n"
     ]
    }
   ],
   "source": [
    "plot_energy_errorbars([final_energy_1, final_energy_2, final_energy_3, final_energy_4, final_energy_5],)"
   ],
   "metadata": {
    "collapsed": false,
    "ExecuteTime": {
     "end_time": "2025-08-03T19:41:05.191042Z",
     "start_time": "2025-08-03T19:41:04.831191Z"
    }
   }
  },
  {
   "cell_type": "code",
   "execution_count": null,
   "outputs": [],
   "source": [],
   "metadata": {
    "collapsed": false
   }
  }
 ],
 "metadata": {
  "kernelspec": {
   "display_name": "Python 3",
   "language": "python",
   "name": "python3"
  },
  "language_info": {
   "codemirror_mode": {
    "name": "ipython",
    "version": 2
   },
   "file_extension": ".py",
   "mimetype": "text/x-python",
   "name": "python",
   "nbconvert_exporter": "python",
   "pygments_lexer": "ipython2",
   "version": "2.7.6"
  }
 },
 "nbformat": 4,
 "nbformat_minor": 0
}
