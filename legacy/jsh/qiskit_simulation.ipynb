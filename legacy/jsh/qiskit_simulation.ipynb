{
 "cells": [
  {
   "cell_type": "code",
   "execution_count": 1,
   "metadata": {},
   "outputs": [],
   "source": [
    "from model import GPT, GPTConfig\n",
    "import torch\n",
    "import numpy as np\n",
    "from torch.nn import functional as F\n",
    "from Qiskit.Circuit_generate import circuit_generator, get_tr_dist_matrix, get_fid_matrix, calculate_fidelity\n",
    "from dataload import get_data\n",
    "from torch.utils.data import DataLoader, TensorDataset\n",
    "from qiskit.circuit.library import ZZFeatureMap\n",
    "from qiskit.quantum_info import Statevector, DensityMatrix, state_fidelity\n",
    "import matplotlib.pyplot as plt"
   ]
  },
  {
   "cell_type": "code",
   "execution_count": 2,
   "metadata": {},
   "outputs": [
    {
     "data": {
      "image/png": "[encoded data removed]",
      "text/plain": [
       "<Figure size 1541.66x284.278 with 1 Axes>"
      ]
     },
     "execution_count": 2,
     "metadata": {},
     "output_type": "execute_result"
    }
   ],
   "source": [
    "from qiskit.circuit.library import ZZFeatureMap\n",
    "prep = ZZFeatureMap(3, reps=1)\n",
    "prep.decompose().draw('mpl')"
   ]
  },
  {
   "cell_type": "code",
   "execution_count": 3,
   "metadata": {},
   "outputs": [
    {
     "ename": "ValueError",
     "evalue": "too many values to unpack (expected 2)",
     "output_type": "error",
     "traceback": [
      "\u001b[1;31m---------------------------------------------------------------------------\u001b[0m",
      "\u001b[1;31mValueError\u001b[0m                                Traceback (most recent call last)",
      "Cell \u001b[1;32mIn[3], line 1\u001b[0m\n\u001b[1;32m----> 1\u001b[0m X_train, y_train \u001b[38;5;241m=\u001b[39m get_data(name\u001b[38;5;241m=\u001b[39m\u001b[38;5;124m'\u001b[39m\u001b[38;5;124miris\u001b[39m\u001b[38;5;124m'\u001b[39m)\n\u001b[0;32m      3\u001b[0m n,p \u001b[38;5;241m=\u001b[39m X_train\u001b[38;5;241m.\u001b[39mshape\n\u001b[0;32m      5\u001b[0m \u001b[38;5;124;03m\"\"\"If use qubit matching, set num_qubits = p  otherwise, it is up to user's choice\"\"\"\u001b[39;00m\n",
      "\u001b[1;31mValueError\u001b[0m: too many values to unpack (expected 2)"
     ]
    }
   ],
   "source": [
    "X_train, y_train = get_data(name='iris')\n",
    "\n",
    "n,p = X_train.shape\n",
    "\n",
    "\"\"\"If use qubit matching, set num_qubits = p  otherwise, it is up to user's choice\"\"\"\n",
    "num_qubits = 1\n",
    "op_pool_size = p*7*num_qubits\n",
    "max_gate = 10           # senario legth"
   ]
  },
  {
   "cell_type": "code",
   "execution_count": null,
   "metadata": {},
   "outputs": [],
   "source": [
    "class GPTQE(GPT):\n",
    "    def forward(self, idx):\n",
    "        device = idx.device\n",
    "        b, t = idx.size()\n",
    "        pos = torch.arange(0, t, dtype=torch.long, device=device) # shape (t)\n",
    "\n",
    "        # forward the GPT model itself\n",
    "        tok_emb = self.transformer.wte(idx) # token embeddings of shape (b, t, n_embd)\n",
    "        pos_emb = self.transformer.wpe(pos) # position embeddings of shape (t, n_embd)\n",
    "        x = self.transformer.drop(tok_emb + pos_emb)\n",
    "        for block in self.transformer.h:\n",
    "            x = block(x)\n",
    "        x = self.transformer.ln_f(x)\n",
    "        logits = self.lm_head(x)\n",
    "        return logits\n",
    "\n",
    "    def calculate_loss(self, tokens, fidelity):\n",
    "        # 현재 토큰 시퀀스와 다음 토큰 시퀀스를 분리\n",
    "        fidelity = 1 - fidelity\n",
    "        tokens = tokens.reshape(1,-1)\n",
    "        current_tokens, next_tokens = tokens[:, :-1], tokens[:, 1:]\n",
    "    \n",
    "        # 현재 토큰 시퀀스에 대한 예측 로짓 계산\n",
    "        logits = self(current_tokens)\n",
    "    \n",
    "        # 실제 다음 토큰에 해당하는 로짓 선택\n",
    "        next_token_mask = torch.nn.functional.one_hot(\n",
    "            next_tokens, num_classes=self.config.vocab_size\n",
    "        )\n",
    "\n",
    "        next_token_logits = (logits * next_token_mask).sum(axis=2)\n",
    "        # 각 시퀀스에 대한 누적 로짓 계산\n",
    "        cumsum_logits = torch.sum(next_token_logits)\n",
    "    \n",
    "        # 누적 로짓과 Fidelity 간의 차이를 제곱해 평균 손실로 계산\n",
    "        loss = torch.mean(torch.square(cumsum_logits - fidelity))\n",
    "    \n",
    "        return loss\n",
    "\n",
    "\n",
    "    @torch.no_grad()\n",
    "    def generate(self, n_sequences, max_new_tokens, temperature=1., device=\"cpu\"):\n",
    "        idx = torch.zeros(size=(n_sequences, 1), dtype=int, device=device)\n",
    "        total_logits = torch.zeros(size=(n_sequences, 1), device=device)\n",
    "        for _ in range(max_new_tokens):\n",
    "            # if the sequence context is growing too long we must crop it at block_size\n",
    "            idx_cond = idx if idx.size(1) <= self.config.block_size else idx[:, -self.config.block_size:]\n",
    "            # forward the model to get the logits for the index in the sequence\n",
    "            logits = self(idx_cond)\n",
    "            # pluck the logits at the final step\n",
    "            logits = logits[:, -1, :]\n",
    "            # set the logit of the first token so that its probability will be zero\n",
    "            logits[:, 0] = -float(\"inf\")\n",
    "            # apply softmax to convert logits to (normalized) probabilities and scale by desired temperature\n",
    "            probs = F.softmax(logits / temperature, dim=-1)\n",
    "            # sample from the distribution\n",
    "            idx_next = torch.multinomial(probs, num_samples=1)\n",
    "            # # Accumulate logits\n",
    "            total_logits += torch.gather(logits, index=idx_next, dim=1)\n",
    "            # append sampled index to the running sequence and continue\n",
    "            idx = torch.cat((idx, idx_next), dim=1)\n",
    "        return idx, total_logits\n"
   ]
  },
  {
   "cell_type": "code",
   "execution_count": 24,
   "metadata": {},
   "outputs": [
    {
     "name": "stdout",
     "output_type": "stream",
     "text": [
      "number of parameters: 85.04M\n",
      "num decayed parameter tensors: 50, with 85,029,120 parameters\n",
      "num non-decayed parameter tensors: 25, with 19,200 parameters\n",
      "using fused AdamW: True\n"
     ]
    }
   ],
   "source": [
    "gpt = GPTQE(GPTConfig(\n",
    "    vocab_size=op_pool_size + 1,\n",
    "    block_size=max_gate,\n",
    "    dropout=0.2,\n",
    "    n_layer = 12,\n",
    "    n_head = 12,\n",
    "    n_embd=768,\n",
    "    bias=False\n",
    ")).to(\"cuda\")\n",
    "\n",
    "### Hyperparameter setting\n",
    "opt = gpt.configure_optimizers(\n",
    "    weight_decay=0.01, learning_rate=5e-5, betas=(0.9, 0.999), device_type=\"cuda\"\n",
    ")\n",
    "\n",
    "num_iterations = 1000       # 총 학습 반복 횟수"
   ]
  },
  {
   "cell_type": "code",
   "execution_count": 25,
   "metadata": {},
   "outputs": [
    {
     "name": "stdout",
     "output_type": "stream",
     "text": [
      "Iteration [1/10000], Loss: 356.9369201660156, Fidelity loss: 0.5050505050505051\n",
      "Iteration [2/10000], Loss: 283.6143798828125, Fidelity loss: 0.5050505050505051\n",
      "Iteration [3/10000], Loss: 358.5869445800781, Fidelity loss: 0.39666865645669497\n"
     ]
    },
    {
     "ename": "KeyboardInterrupt",
     "evalue": "",
     "output_type": "error",
     "traceback": [
      "\u001b[1;31m---------------------------------------------------------------------------\u001b[0m",
      "\u001b[1;31mKeyboardInterrupt\u001b[0m                         Traceback (most recent call last)",
      "Cell \u001b[1;32mIn[25], line 50\u001b[0m\n\u001b[0;32m     47\u001b[0m ev_states_lst \u001b[38;5;241m=\u001b[39m []\n\u001b[0;32m     49\u001b[0m \u001b[38;5;28;01mfor\u001b[39;00m x_ev \u001b[38;5;129;01min\u001b[39;00m X_train:\n\u001b[1;32m---> 50\u001b[0m     ev_circuit, ev_state \u001b[38;5;241m=\u001b[39m \u001b[43mcircuit_generator\u001b[49m\u001b[43m(\u001b[49m\u001b[43mev_tokens\u001b[49m\u001b[43m,\u001b[49m\u001b[43m \u001b[49m\u001b[43mn_qubits\u001b[49m\u001b[38;5;241;43m=\u001b[39;49m\u001b[43mnum_qubits\u001b[49m\u001b[43m,\u001b[49m\u001b[43m \u001b[49m\u001b[43mdata\u001b[49m\u001b[38;5;241;43m=\u001b[39;49m\u001b[43mx_ev\u001b[49m\u001b[43m,\u001b[49m\u001b[43m \u001b[49m\u001b[43mmatching\u001b[49m\u001b[38;5;241;43m=\u001b[39;49m\u001b[38;5;28;43;01mFalse\u001b[39;49;00m\u001b[43m)\u001b[49m \n\u001b[0;32m     51\u001b[0m     ev_states_lst\u001b[38;5;241m.\u001b[39mappend(ev_state)\n\u001b[0;32m     53\u001b[0m ev_fid_mat \u001b[38;5;241m=\u001b[39m get_fid_matrix(ev_states_lst)\n",
      "File \u001b[1;32mc:\\Users\\82103\\Desktop\\Quantum\\GQE\\Code\\Qiskit\\Circuit_generate.py:54\u001b[0m, in \u001b[0;36mcircuit_generator\u001b[1;34m(token_seq, n_qubits, data, matching)\u001b[0m\n\u001b[0;32m     52\u001b[0m token \u001b[38;5;241m=\u001b[39m token \u001b[38;5;241m-\u001b[39m \u001b[38;5;241m1\u001b[39m  \n\u001b[0;32m     53\u001b[0m \u001b[38;5;28;01mif\u001b[39;00m token \u001b[38;5;241m!=\u001b[39m \u001b[38;5;241m-\u001b[39m\u001b[38;5;241m1\u001b[39m:\n\u001b[1;32m---> 54\u001b[0m     data_idx \u001b[38;5;241m=\u001b[39m \u001b[43mtoken\u001b[49m\u001b[43m \u001b[49m\u001b[38;5;241;43m/\u001b[39;49m\u001b[38;5;241;43m/\u001b[39;49m\u001b[43m \u001b[49m\u001b[43m(\u001b[49m\u001b[43mn_qubits\u001b[49m\u001b[43m \u001b[49m\u001b[38;5;241;43m*\u001b[39;49m\u001b[43m \u001b[49m\u001b[38;5;241;43m7\u001b[39;49m\u001b[43m)\u001b[49m\n\u001b[0;32m     55\u001b[0m     remainder \u001b[38;5;241m=\u001b[39m token \u001b[38;5;241m%\u001b[39m (n_qubits \u001b[38;5;241m*\u001b[39m \u001b[38;5;241m7\u001b[39m)\n\u001b[0;32m     56\u001b[0m     qubit_idx \u001b[38;5;241m=\u001b[39m remainder \u001b[38;5;241m/\u001b[39m\u001b[38;5;241m/\u001b[39m \u001b[38;5;241m7\u001b[39m\n",
      "File \u001b[1;32mc:\\Users\\82103\\Desktop\\Quantum\\GQE\\Code\\.venv\\Lib\\site-packages\\torch\\_tensor.py:35\u001b[0m, in \u001b[0;36m_handle_torch_function_and_wrap_type_error_to_not_implemented.<locals>.wrapped\u001b[1;34m(*args, **kwargs)\u001b[0m\n\u001b[0;32m     32\u001b[0m \u001b[38;5;28;01mdef\u001b[39;00m \u001b[38;5;21m_handle_torch_function_and_wrap_type_error_to_not_implemented\u001b[39m(f):\n\u001b[0;32m     33\u001b[0m     assigned \u001b[38;5;241m=\u001b[39m functools\u001b[38;5;241m.\u001b[39mWRAPPER_ASSIGNMENTS\n\u001b[1;32m---> 35\u001b[0m     \u001b[38;5;129m@functools\u001b[39m\u001b[38;5;241m.\u001b[39mwraps(f, assigned\u001b[38;5;241m=\u001b[39massigned)\n\u001b[0;32m     36\u001b[0m     \u001b[38;5;28;01mdef\u001b[39;00m \u001b[38;5;21mwrapped\u001b[39m(\u001b[38;5;241m*\u001b[39margs, \u001b[38;5;241m*\u001b[39m\u001b[38;5;241m*\u001b[39mkwargs):\n\u001b[0;32m     37\u001b[0m         \u001b[38;5;28;01mtry\u001b[39;00m:\n\u001b[0;32m     38\u001b[0m             \u001b[38;5;66;03m# See https://github.com/pytorch/pytorch/issues/75462\u001b[39;00m\n\u001b[0;32m     39\u001b[0m             \u001b[38;5;28;01mif\u001b[39;00m has_torch_function(args):\n",
      "\u001b[1;31mKeyboardInterrupt\u001b[0m: "
     ]
    }
   ],
   "source": [
    "X_train_tensor = torch.tensor(X_train, dtype=torch.float32)\n",
    "y_train_tensor = torch.tensor(y_train, dtype=torch.float32)\n",
    "\n",
    "# TensorDataset을 사용하여 데이터셋 생성\n",
    "train_dataset = TensorDataset(X_train_tensor, y_train_tensor)\n",
    "\n",
    "# DataLoader로 배치 단위로 데이터 로드\n",
    "train_loader = DataLoader(train_dataset, batch_size=16, shuffle=True)\n",
    "\n",
    "loss_record = []\n",
    "fidloss_record = []\n",
    "for iteration in range(num_iterations):\n",
    "    # 1. token generating\n",
    "    epsilon = (num_iterations - iteration) / num_iterations\n",
    "    tokens, logits = gpt.generate(n_sequences=1,temperature=1/epsilon, max_new_tokens=max_gate, device=\"cuda\") \n",
    "    tokens = tokens.reshape(-1,1)\n",
    "    loss_mini = []\n",
    "    fid_mini = []\n",
    "    for x_batch, y_batch in train_loader:\n",
    "        # 2. embbeding\n",
    "        quantum_states = []\n",
    "        for x in x_batch:\n",
    "            circuit, state = circuit_generator(tokens, n_qubits=num_qubits, data=x, matching=False) \n",
    "            quantum_states.append(state)\n",
    "    \n",
    "        # 3. Fidelity loss\n",
    "        fid_mat = get_fid_matrix(quantum_states)\n",
    "        fidloss = calculate_fidelity(fid_mat, y_batch)  \n",
    "    \n",
    "        # 4. optimizing\n",
    "        opt.zero_grad()\n",
    "        loss = gpt.calculate_loss(tokens, fidloss)\n",
    "        loss.backward()\n",
    "        opt.step()\n",
    "\n",
    "        loss_mini.append(loss.item())\n",
    "        fid_mini.append(fidloss)\n",
    "    \n",
    "    loss_record.append(torch.mean(torch.tensor(loss_mini)))\n",
    "    fidloss_record.append(torch.mean(torch.tensor(fid_mini)))\n",
    "\n",
    "    # 5. learning process\n",
    "    if (iteration + 1) % 1 == 0:\n",
    "        gpt.eval()\n",
    "        ev_tokens, _ = gpt.generate(n_sequences=1, max_new_tokens=max_gate, temperature=0.001,device=\"cuda\")\n",
    "        ev_tokens = ev_tokens.reshape(-1,1)\n",
    "        ev_states_lst = []\n",
    "\n",
    "        for x_ev in X_train:\n",
    "            ev_circuit, ev_state = circuit_generator(ev_tokens, n_qubits=num_qubits, data=x_ev, matching=False) \n",
    "            ev_states_lst.append(ev_state)\n",
    "        \n",
    "        ev_fid_mat = get_fid_matrix(ev_states_lst)\n",
    "        ev_fidloss = calculate_fidelity(ev_fid_mat, y_train)\n",
    "        ev_loss = gpt.calculate_loss(ev_tokens, ev_fidloss)\n",
    "        gpt.train()\n",
    "        print(f\"Iteration [{iteration + 1}/{num_iterations}], Loss: {ev_loss}, Fidelity loss: {ev_fidloss}\")"
   ]
  },
  {
   "cell_type": "code",
   "execution_count": 26,
   "metadata": {},
   "outputs": [
    {
     "data": {
      "text/plain": [
       "[<matplotlib.lines.Line2D at 0x1dc20c08110>]"
      ]
     },
     "execution_count": 26,
     "metadata": {},
     "output_type": "execute_result"
    },
    {
     "data": {
      "image/png": "[encoded data removed]",
      "text/plain": [
       "<Figure size 640x480 with 1 Axes>"
      ]
     },
     "metadata": {},
     "output_type": "display_data"
    }
   ],
   "source": [
    "plt.plot(loss_record)"
   ]
  },
  {
   "cell_type": "code",
   "execution_count": 27,
   "metadata": {},
   "outputs": [
    {
     "data": {
      "text/plain": [
       "[<matplotlib.lines.Line2D at 0x1dc88207230>]"
      ]
     },
     "execution_count": 27,
     "metadata": {},
     "output_type": "execute_result"
    },
    {
     "data": {
      "image/png": "[encoded data removed]",
      "text/plain": [
       "<Figure size 640x480 with 1 Axes>"
      ]
     },
     "metadata": {},
     "output_type": "display_data"
    }
   ],
   "source": [
    "plt.plot(fidloss_record)"
   ]
  },
  {
   "cell_type": "code",
   "execution_count": 15,
   "metadata": {},
   "outputs": [
    {
     "data": {
      "text/plain": [
       "torch.Size([1, 10, 113])"
      ]
     },
     "execution_count": 15,
     "metadata": {},
     "output_type": "execute_result"
    }
   ],
   "source": [
    "logits.shape"
   ]
  },
  {
   "cell_type": "code",
   "execution_count": 19,
   "metadata": {},
   "outputs": [
    {
     "data": {
      "text/plain": [
       "0.0"
      ]
     },
     "execution_count": 19,
     "metadata": {},
     "output_type": "execute_result"
    }
   ],
   "source": [
    "1/np.inf"
   ]
  },
  {
   "cell_type": "code",
   "execution_count": 19,
   "metadata": {},
   "outputs": [
    {
     "data": {
      "text/plain": [
       "torch.Size([1, 10])"
      ]
     },
     "execution_count": 19,
     "metadata": {},
     "output_type": "execute_result"
    }
   ],
   "source": [
    "cumsum_logits = torch.cumsum(next_token_logits, dim=1)\n",
    "cumsum_logits.shape"
   ]
  },
  {
   "cell_type": "code",
   "execution_count": null,
   "metadata": {},
   "outputs": [],
   "source": [
    "feature_map = ZZFeatureMap(feature_dimension=p, reps=2, entanglement='linear')\n",
    "\n",
    "X_train_zz, y_train_zz = get_data(name='iris', zzmapping=True)\n",
    "\n",
    "\n",
    "# Process each sample\n",
    "zz_quantum_circuits = []\n",
    "zz_states = []\n",
    "for sample in X_train_zz:\n",
    "    # Create a mapping from parameters to sample values\n",
    "    param_dict = dict(zip(feature_map.parameters, sample))\n",
    "    # Assign the sample features to the circuit parameters\n",
    "    bound_circuit = feature_map.assign_parameters(param_dict)\n",
    "    zz_quantum_circuits.append(bound_circuit)\n",
    "    states = Statevector.from_instruction(bound_circuit)\n",
    "    zz_states.append(states)\n",
    "\n",
    "zz_fidmat = get_fid_matrix(zz_states)\n",
    "zz_fidloss = calculate_fidelity(zz_fidmat, y_train_zz)"
   ]
  },
  {
   "cell_type": "code",
   "execution_count": 5,
   "metadata": {},
   "outputs": [
    {
     "data": {
      "text/plain": [
       "np.float64(0.46855961444790806)"
      ]
     },
     "execution_count": 5,
     "metadata": {},
     "output_type": "execute_result"
    }
   ],
   "source": [
    "zz_fidloss"
   ]
  },
  {
   "cell_type": "code",
   "execution_count": 6,
   "metadata": {},
   "outputs": [
    {
     "data": {
      "text/html": [
       "<pre style=\"word-wrap: normal;white-space: pre;background: #fff0;line-height: 1.1;font-family: &quot;Courier New&quot;,Courier,monospace\">     ┌────────────────────────────────────────┐\n",
       "q_0: ┤0                                       ├\n",
       "     │                                        │\n",
       "q_1: ┤1                                       ├\n",
       "     │  ZZFeatureMap(1.629,π/3,2.3754,2.2176) │\n",
       "q_2: ┤2                                       ├\n",
       "     │                                        │\n",
       "q_3: ┤3                                       ├\n",
       "     └────────────────────────────────────────┘</pre>"
      ],
      "text/plain": [
       "     ┌────────────────────────────────────────┐\n",
       "q_0: ┤0                                       ├\n",
       "     │                                        │\n",
       "q_1: ┤1                                       ├\n",
       "     │  ZZFeatureMap(1.629,π/3,2.3754,2.2176) │\n",
       "q_2: ┤2                                       ├\n",
       "     │                                        │\n",
       "q_3: ┤3                                       ├\n",
       "     └────────────────────────────────────────┘"
      ]
     },
     "execution_count": 6,
     "metadata": {},
     "output_type": "execute_result"
    }
   ],
   "source": [
    "bound_circuit.draw()"
   ]
  }
 ],
 "metadata": {
  "kernelspec": {
   "display_name": ".venv",
   "language": "python",
   "name": "python3"
  },
  "language_info": {
   "codemirror_mode": {
    "name": "ipython",
    "version": 3
   },
   "file_extension": ".py",
   "mimetype": "text/x-python",
   "name": "python",
   "nbconvert_exporter": "python",
   "pygments_lexer": "ipython3",
   "version": "3.12.1"
  }
 },
 "nbformat": 4,
 "nbformat_minor": 2
}
